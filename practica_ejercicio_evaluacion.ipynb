{
 "cells": [
  {
   "cell_type": "code",
   "execution_count": 52,
   "metadata": {},
   "outputs": [],
   "source": [
    "# crear método agregar_producto(self, nombre, precio, cantidad)\n",
    "inventario = []\n",
    "def agregar_producto(nombre, precio, cantidad):\n",
    "    for dicc in inventario: \n",
    "        if dicc[\"nombre\"] == nombre:\n",
    "            dicc[\"cantidad\"] += cantidad\n",
    "            print(\"El producto se ha modificado con éxito\")\n",
    "            return \n",
    "    inventario.append({\"nombre\": nombre, \"precio\": precio, \"cantidad\": cantidad})\n",
    "    print(\"se ha agregado el nuevo producto correctamente\")\n",
    "    \n",
    "\n",
    "    \n",
    "    "
   ]
  },
  {
   "cell_type": "code",
   "execution_count": 53,
   "metadata": {},
   "outputs": [
    {
     "name": "stdout",
     "output_type": "stream",
     "text": [
      "se ha agregado el nuevo producto correctamente\n"
     ]
    }
   ],
   "source": [
    "agregar_producto(\"mascara de pestañas\", 13, 15)"
   ]
  },
  {
   "cell_type": "code",
   "execution_count": 25,
   "metadata": {},
   "outputs": [
    {
     "data": {
      "text/plain": [
       "[{'nombre': 'pintalabios rojo', 'precio': 9.5, 'cantidad': 40},\n",
       " {'nombre': 'mascara de pestañas', 'precio': 13, 'cantidad': 15}]"
      ]
     },
     "execution_count": 25,
     "metadata": {},
     "output_type": "execute_result"
    }
   ],
   "source": [
    "inventario"
   ]
  },
  {
   "cell_type": "code",
   "execution_count": 26,
   "metadata": {},
   "outputs": [],
   "source": [
    "def ver_inventario():\n",
    "    for dicc in inventario:\n",
    "        return {\"Nombre:\" nombre, \"Precio: €\"precio}, \"Cantidad:\" cantidad}"
   ]
  },
  {
   "cell_type": "code",
   "execution_count": 28,
   "metadata": {},
   "outputs": [
    {
     "name": "stdout",
     "output_type": "stream",
     "text": [
      "dict_items([('nombre', 'pintalabios rojo'), ('precio', 9.5), ('cantidad', 40)])\n"
     ]
    },
    {
     "data": {
      "text/plain": [
       "dict_items([('nombre', 'pintalabios rojo'), ('precio', 9.5), ('cantidad', 40)])"
      ]
     },
     "execution_count": 28,
     "metadata": {},
     "output_type": "execute_result"
    }
   ],
   "source": [
    "ver_inventario()"
   ]
  },
  {
   "cell_type": "code",
   "execution_count": 49,
   "metadata": {},
   "outputs": [
    {
     "name": "stdout",
     "output_type": "stream",
     "text": [
      "dict_items([('nombre', 'pintalabios rojo'), ('precio', 9.5), ('cantidad', 40)])\n",
      "('nombre', 'pintalabios rojo')\n",
      "('precio', 9.5)\n",
      "('cantidad', 40)\n",
      "dict_items([('nombre', 'mascara de pestañas'), ('precio', 13), ('cantidad', 15)])\n",
      "('nombre', 'mascara de pestañas')\n",
      "('precio', 13)\n",
      "('cantidad', 15)\n"
     ]
    }
   ],
   "source": [
    "inventario2 = [{'nombre': 'pintalabios rojo', 'precio': 9.5, 'cantidad': 40},\n",
    " {'nombre': 'mascara de pestañas', 'precio': 13, 'cantidad': 15}]\n",
    "for producto in inventario2: \n",
    "    tupla_producto = producto.items()\n",
    "    print(tupla_producto)\n",
    "    for prod in tupla_producto:\n",
    "       print(prod)\n",
    "\n"
   ]
  },
  {
   "cell_type": "code",
   "execution_count": 48,
   "metadata": {},
   "outputs": [
    {
     "data": {
      "text/plain": [
       "dict_items"
      ]
     },
     "execution_count": 48,
     "metadata": {},
     "output_type": "execute_result"
    }
   ],
   "source": [
    "type(tupla_producto)"
   ]
  },
  {
   "cell_type": "code",
   "execution_count": 57,
   "metadata": {},
   "outputs": [],
   "source": [
    "inventario\n",
    "def actualizar_stock(nombre, cantidad):\n",
    "    for producto in inventario:\n",
    "        if producto[\"nombre\"] == nombre:\n",
    "            producto [\"cantidad\"] += cantidad\n",
    "            return f\"la cantidad del producto {nombre} ha sido actualizada correctamente.\"\n",
    "        else: \n",
    "            print(\"el producto indicado no existe actualmente\")\n"
   ]
  },
  {
   "cell_type": "code",
   "execution_count": 58,
   "metadata": {},
   "outputs": [
    {
     "data": {
      "text/plain": [
       "'la cantidad del producto mascara de pestañas ha sido actualizada correctamente.'"
      ]
     },
     "execution_count": 58,
     "metadata": {},
     "output_type": "execute_result"
    }
   ],
   "source": [
    "actualizar_stock(\"mascara de pestañas\", 10)"
   ]
  },
  {
   "cell_type": "code",
   "execution_count": 59,
   "metadata": {},
   "outputs": [
    {
     "data": {
      "text/plain": [
       "[{'nombre': 'mascara de pestañas', 'precio': 13, 'cantidad': 35}]"
      ]
     },
     "execution_count": 59,
     "metadata": {},
     "output_type": "execute_result"
    }
   ],
   "source": [
    "inventario"
   ]
  }
 ],
 "metadata": {
  "kernelspec": {
   "display_name": "Python 3",
   "language": "python",
   "name": "python3"
  },
  "language_info": {
   "codemirror_mode": {
    "name": "ipython",
    "version": 3
   },
   "file_extension": ".py",
   "mimetype": "text/x-python",
   "name": "python",
   "nbconvert_exporter": "python",
   "pygments_lexer": "ipython3",
   "version": "3.12.4"
  }
 },
 "nbformat": 4,
 "nbformat_minor": 2
}
