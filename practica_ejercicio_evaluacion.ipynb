{
 "cells": [
  {
   "cell_type": "code",
   "execution_count": 55,
   "metadata": {},
   "outputs": [],
   "source": [
    "# crear método agregar_producto(self, nombre, precio, cantidad)\n",
    "inventario = []\n",
    "def agregar_producto(nombre, precio, cantidad):\n",
    "    for dicc in inventario: \n",
    "        if dicc[\"nombre\"] == nombre:\n",
    "            dicc[\"cantidad\"] += cantidad\n",
    "            print(\"El producto se ha modificado con éxito\")\n",
    "            return \n",
    "    inventario.append({\"nombre\": nombre, \"precio\": precio, \"cantidad\": cantidad})\n",
    "    print(\"se ha agregado el nuevo producto correctamente\")\n",
    "    \n",
    "\n",
    "    \n",
    "    "
   ]
  },
  {
   "cell_type": "code",
   "execution_count": 56,
   "metadata": {},
   "outputs": [
    {
     "name": "stdout",
     "output_type": "stream",
     "text": [
      "se ha agregado el nuevo producto correctamente\n"
     ]
    }
   ],
   "source": [
    "agregar_producto(\"eyeliner\", 6, 40)"
   ]
  },
  {
   "cell_type": "code",
   "execution_count": 57,
   "metadata": {},
   "outputs": [
    {
     "data": {
      "text/plain": [
       "[{'nombre': 'eyeliner', 'precio': 6, 'cantidad': 40}]"
      ]
     },
     "execution_count": 57,
     "metadata": {},
     "output_type": "execute_result"
    }
   ],
   "source": [
    "inventario"
   ]
  },
  {
   "cell_type": "code",
   "execution_count": 58,
   "metadata": {},
   "outputs": [],
   "source": [
    "inventario\n",
    "def actualizar_stock(nombre, cantidad):\n",
    "    for producto in inventario:\n",
    "        if producto[\"nombre\"] == nombre:\n",
    "            producto [\"cantidad\"] += cantidad\n",
    "            return f\"la cantidad del producto {nombre} ha sido actualizada correctamente.\"\n",
    "        else: \n",
    "            print(\"el producto indicado no existe actualmente\")\n"
   ]
  },
  {
   "cell_type": "code",
   "execution_count": 59,
   "metadata": {},
   "outputs": [
    {
     "name": "stdout",
     "output_type": "stream",
     "text": [
      "el producto indicado no existe actualmente\n"
     ]
    }
   ],
   "source": [
    "actualizar_stock(\"jabón\", 10)"
   ]
  },
  {
   "cell_type": "code",
   "execution_count": 60,
   "metadata": {},
   "outputs": [
    {
     "data": {
      "text/plain": [
       "[{'nombre': 'eyeliner', 'precio': 6, 'cantidad': 40}]"
      ]
     },
     "execution_count": 60,
     "metadata": {},
     "output_type": "execute_result"
    }
   ],
   "source": [
    "inventario"
   ]
  },
  {
   "cell_type": "code",
   "execution_count": 61,
   "metadata": {},
   "outputs": [],
   "source": [
    "inventario\n",
    "def eliminar_producto(nombre):\n",
    "    for producto in inventario:\n",
    "        if producto[\"nombre\"] == nombre:\n",
    "            inventario.remove(producto)\n",
    "            print(f\"El producto {nombre} ha sido eliminado  correctamente.\")\n",
    "        else: \n",
    "            print(\"el producto indicado no existe actualmente\")\n",
    "        return\n"
   ]
  },
  {
   "cell_type": "code",
   "execution_count": 62,
   "metadata": {},
   "outputs": [
    {
     "name": "stdout",
     "output_type": "stream",
     "text": [
      "el producto indicado no existe actualmente\n"
     ]
    }
   ],
   "source": [
    "eliminar_producto(\"pintalabios\")"
   ]
  },
  {
   "cell_type": "code",
   "execution_count": 63,
   "metadata": {},
   "outputs": [
    {
     "data": {
      "text/plain": [
       "[{'nombre': 'eyeliner', 'precio': 6, 'cantidad': 40}]"
      ]
     },
     "execution_count": 63,
     "metadata": {},
     "output_type": "execute_result"
    }
   ],
   "source": [
    "inventario"
   ]
  },
  {
   "cell_type": "code",
   "execution_count": 64,
   "metadata": {},
   "outputs": [],
   "source": [
    "def calcular_valor_inventario():\n",
    "    valor_total = 0\n",
    "    for producto in inventario: \n",
    "        valor_total += producto[\"cantidad\"] * producto[\"precio\"]\n",
    "    return valor_total"
   ]
  },
  {
   "cell_type": "code",
   "execution_count": 65,
   "metadata": {},
   "outputs": [
    {
     "data": {
      "text/plain": [
       "240"
      ]
     },
     "execution_count": 65,
     "metadata": {},
     "output_type": "execute_result"
    }
   ],
   "source": [
    "calcular_valor_inventario()"
   ]
  },
  {
   "cell_type": "code",
   "execution_count": 325,
   "metadata": {},
   "outputs": [],
   "source": [
    "\n",
    "carrito = []\n",
    "\n",
    "def realizar_compra():\n",
    "    total_compra = 0\n",
    "    print(inventario)  # poner función ver_inventario\n",
    "    while True: \n",
    "        #solicitar nombre del producto al usuario\n",
    "        nombre_producto = input(\"Introduzca el nombre del producto que desea añadir al carrito. De lo contrario escriba: salir\").lower()\n",
    "        if nombre_producto == \"salir\":\n",
    "            break\n",
    "        for producto in inventario:\n",
    "            #por cada producto del inventario mirar si coincide con la respuesta del usuaria y si la cantidad es > \n",
    "            if producto[\"nombre\"] == nombre_producto and producto[\"cantidad\"] > 0:\n",
    "                carrito.append(nombre_producto)\n",
    "                print(f\"El carrito contiene: {carrito}\")\n",
    "                total_compra += producto[\"precio\"]\n",
    "                producto[\"cantidad\"] -= 1\n",
    "                print(f\"el producto {nombre_producto} se ha agregado correctamente al carrito\")\n",
    "                print(f\"el total de la compra es: {total_compra}€\")\n",
    "            else: \n",
    "                print(\"lo siento no tenemos disponibilidad de ese producto, introduzca uno de la lista\")\n",
    "            \n",
    "        "
   ]
  },
  {
   "cell_type": "code",
   "execution_count": 326,
   "metadata": {},
   "outputs": [
    {
     "name": "stdout",
     "output_type": "stream",
     "text": [
      "[{'nombre': 'eyeliner', 'precio': 6, 'cantidad': 37}]\n",
      "El carrito contiene: ['eyeliner']\n",
      "el producto eyeliner se ha agregado correctamente al carrito\n",
      "el total de la compra es: 6€\n"
     ]
    }
   ],
   "source": [
    "realizar_compra()"
   ]
  },
  {
   "cell_type": "code",
   "execution_count": 33,
   "metadata": {},
   "outputs": [
    {
     "data": {
      "text/plain": [
       "[{'nombre': 'blush', 'precio': 6, 'cantidad': 24}]"
      ]
     },
     "execution_count": 33,
     "metadata": {},
     "output_type": "execute_result"
    }
   ],
   "source": [
    "inventario"
   ]
  },
  {
   "cell_type": "code",
   "execution_count": 297,
   "metadata": {},
   "outputs": [],
   "source": [
    "clientes = {}\n",
    "def agregar_clientes(nombre, email):\n",
    "    # Verifica si el 'nombre' no existe en el diccionario de clientes\n",
    "    if nombre in  clientes:\n",
    "            print(f\"el cliente {nombre} ya consta en la base de datos.\")\n",
    "    nombre_cliente = f\"cliente{len(clientes)+1}\"\n",
    "    clientes[nombre_cliente] = {\"nombre\": nombre, \"email\": email}\n",
    "    print(f\"el cliente {nombre} se ha agregado correctamente\")\n",
    "   "
   ]
  },
  {
   "cell_type": "code",
   "execution_count": 316,
   "metadata": {},
   "outputs": [
    {
     "name": "stdout",
     "output_type": "stream",
     "text": [
      "el cliente Ana perez se ha agregado correctamente\n"
     ]
    },
    {
     "data": {
      "text/plain": [
       "{'cliente1': {'nombre': 'Ana perez', 'email': 'patrisainz@mail.com'}}"
      ]
     },
     "execution_count": 316,
     "metadata": {},
     "output_type": "execute_result"
    }
   ],
   "source": [
    "agregar_clientes(\"Ana perez\", \"patrisainz@mail.com\")\n",
    "clientes"
   ]
  },
  {
   "cell_type": "code",
   "execution_count": 314,
   "metadata": {},
   "outputs": [],
   "source": [
    "clientes = {}\n",
    "def ver_clientes():\n",
    "# Verificar si hay clientes en el diccionario\n",
    "    if not clientes:\n",
    "        print(\"No hay clientes registrados.\")\n",
    "        return\n",
    "\n",
    "    # Imprimir la lista de clientes con sus nombres y correos electrónicos\n",
    "\n",
    "    print(\"Lista de clientes registrados:\")\n",
    "    for nombre_cliente, datos_cliente in clientes.items():\n",
    "        nombre = datos_cliente[\"nombre\"]\n",
    "        email = datos_cliente[\"email\"]\n",
    "        print(f\"Cliente: {nombre_cliente}, Nombre: {nombre}, Email: {email}\")"
   ]
  },
  {
   "cell_type": "code",
   "execution_count": 317,
   "metadata": {},
   "outputs": [
    {
     "name": "stdout",
     "output_type": "stream",
     "text": [
      "Lista de clientes registrados:\n",
      "Cliente: cliente1, Nombre: Ana perez, Email: patrisainz@mail.com\n"
     ]
    }
   ],
   "source": [
    "ver_clientes()"
   ]
  },
  {
   "cell_type": "code",
   "execution_count": 290,
   "metadata": {},
   "outputs": [],
   "source": [
    "\n",
    "def procesar_pago():\n",
    "    try:\n",
    "        # Solicita la cantidad total de la compra y la cantidad con la que paga:\n",
    "        cantidad_total = float(input(\"Ingrese el total de la compra: €\"))\n",
    "        cantidad_pago = float(input(\"Ingrese la cantidad con la que paga: €\"))\n",
    "        \n",
    "        # Verificar si el pago es suficiente\n",
    "        if cantidad_pago < cantidad_total:\n",
    "            raise ValueError(\"Monto insuficiente\")\n",
    "        \n",
    "        # Calcula el cambio\n",
    "        cambio = cantidad_pago - cantidad_total\n",
    "        \n",
    "        # Muestra mensaje de éxito y el cambio redondeando decimales a 2\n",
    "        print(f\"Pago procesado con éxito. Su cambio es: €{cambio:.2f}\")\n",
    "    \n",
    "    except ValueError as e:\n",
    "        # Maneja errores relacionados con el tipo de dato o con monto insuficiente\n",
    "        print(f\"Error: {e}. Intente nuevamente.\")\n",
    "\n",
    "        "
   ]
  },
  {
   "cell_type": "code",
   "execution_count": 291,
   "metadata": {},
   "outputs": [
    {
     "name": "stdout",
     "output_type": "stream",
     "text": [
      "Error: could not convert string to float: 'treinta'. Intente nuevamente.\n"
     ]
    }
   ],
   "source": [
    "procesar_pago()"
   ]
  },
  {
   "cell_type": "code",
   "execution_count": 355,
   "metadata": {},
   "outputs": [],
   "source": [
    "def registrar_compra(nombre_cliente, carrito):\n",
    "    carrito_cliente = carrito\n",
    "    print()\n",
    "    total_compra = 0\n",
    "    if nombre_cliente not in clientes:\n",
    "        print(\"el cliente indicado no está en la base de datos\")\n",
    "    for producto in carrito:\n",
    "       cantidad = producto[\"cantidad\"]\n",
    "       precio = producto[\"precio\"]\n",
    "       total_compra =+ cantidad * precio\n",
    "        \n",
    "\n",
    "        \n",
    "        \n",
    "\n",
    "    \n",
    "    "
   ]
  },
  {
   "cell_type": "code",
   "execution_count": 356,
   "metadata": {},
   "outputs": [
    {
     "ename": "TypeError",
     "evalue": "string indices must be integers, not 'str'",
     "output_type": "error",
     "traceback": [
      "\u001b[0;31m---------------------------------------------------------------------------\u001b[0m",
      "\u001b[0;31mTypeError\u001b[0m                                 Traceback (most recent call last)",
      "Cell \u001b[0;32mIn[356], line 1\u001b[0m\n\u001b[0;32m----> 1\u001b[0m \u001b[43mregistrar_compra\u001b[49m\u001b[43m(\u001b[49m\u001b[38;5;124;43m\"\u001b[39;49m\u001b[38;5;124;43mcliente1\u001b[39;49m\u001b[38;5;124;43m\"\u001b[39;49m\u001b[43m,\u001b[49m\u001b[43m \u001b[49m\u001b[43m{\u001b[49m\u001b[38;5;124;43m\"\u001b[39;49m\u001b[38;5;124;43meyeliner\u001b[39;49m\u001b[38;5;124;43m\"\u001b[39;49m\u001b[43m:\u001b[49m\u001b[43m \u001b[49m\u001b[43m{\u001b[49m\u001b[38;5;124;43m\"\u001b[39;49m\u001b[38;5;124;43mprecio\u001b[39;49m\u001b[38;5;124;43m\"\u001b[39;49m\u001b[43m:\u001b[49m\u001b[43m \u001b[49m\u001b[38;5;241;43m6\u001b[39;49m\u001b[43m,\u001b[49m\u001b[43m \u001b[49m\u001b[38;5;124;43m\"\u001b[39;49m\u001b[38;5;124;43mcantidad\u001b[39;49m\u001b[38;5;124;43m\"\u001b[39;49m\u001b[43m:\u001b[49m\u001b[43m \u001b[49m\u001b[38;5;241;43m2\u001b[39;49m\u001b[43m}\u001b[49m\u001b[43m}\u001b[49m\u001b[43m)\u001b[49m\n",
      "Cell \u001b[0;32mIn[355], line 7\u001b[0m, in \u001b[0;36mregistrar_compra\u001b[0;34m(nombre_cliente, carrito)\u001b[0m\n\u001b[1;32m      5\u001b[0m     \u001b[38;5;28mprint\u001b[39m(\u001b[38;5;124m\"\u001b[39m\u001b[38;5;124mel cliente indicado no está en la base de datos\u001b[39m\u001b[38;5;124m\"\u001b[39m)\n\u001b[1;32m      6\u001b[0m \u001b[38;5;28;01mfor\u001b[39;00m producto \u001b[38;5;129;01min\u001b[39;00m carrito:\n\u001b[0;32m----> 7\u001b[0m    cantidad \u001b[38;5;241m=\u001b[39m \u001b[43mproducto\u001b[49m\u001b[43m[\u001b[49m\u001b[38;5;124;43m\"\u001b[39;49m\u001b[38;5;124;43mcantidad\u001b[39;49m\u001b[38;5;124;43m\"\u001b[39;49m\u001b[43m]\u001b[49m\n\u001b[1;32m      8\u001b[0m    precio \u001b[38;5;241m=\u001b[39m producto[\u001b[38;5;124m\"\u001b[39m\u001b[38;5;124mprecio\u001b[39m\u001b[38;5;124m\"\u001b[39m]\n\u001b[1;32m      9\u001b[0m    total_compra \u001b[38;5;241m=\u001b[39m\u001b[38;5;241m+\u001b[39m carrito\u001b[38;5;241m*\u001b[39m  carrito\n",
      "\u001b[0;31mTypeError\u001b[0m: string indices must be integers, not 'str'"
     ]
    }
   ],
   "source": [
    "registrar_compra(\"cliente1\", {\"eyeliner\": {\"precio\": 6, \"cantidad\": 2}})\n"
   ]
  },
  {
   "cell_type": "code",
   "execution_count": 348,
   "metadata": {},
   "outputs": [
    {
     "ename": "KeyError",
     "evalue": "'nombre'",
     "output_type": "error",
     "traceback": [
      "\u001b[0;31m---------------------------------------------------------------------------\u001b[0m",
      "\u001b[0;31mKeyError\u001b[0m                                  Traceback (most recent call last)",
      "Cell \u001b[0;32mIn[348], line 1\u001b[0m\n\u001b[0;32m----> 1\u001b[0m \u001b[43mcarrito_cliente\u001b[49m\u001b[38;5;241;43m.\u001b[39;49m\u001b[43mpop\u001b[49m\u001b[43m(\u001b[49m\u001b[38;5;124;43m\"\u001b[39;49m\u001b[38;5;124;43mnombre\u001b[39;49m\u001b[38;5;124;43m\"\u001b[39;49m\u001b[43m)\u001b[49m\n",
      "\u001b[0;31mKeyError\u001b[0m: 'nombre'"
     ]
    }
   ],
   "source": [
    "carrito_cliente.pop(\"nombre\")"
   ]
  }
 ],
 "metadata": {
  "kernelspec": {
   "display_name": "Python 3",
   "language": "python",
   "name": "python3"
  },
  "language_info": {
   "codemirror_mode": {
    "name": "ipython",
    "version": 3
   },
   "file_extension": ".py",
   "mimetype": "text/x-python",
   "name": "python",
   "nbconvert_exporter": "python",
   "pygments_lexer": "ipython3",
   "version": "3.12.4"
  }
 },
 "nbformat": 4,
 "nbformat_minor": 2
}
