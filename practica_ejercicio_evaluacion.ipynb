{
 "cells": [
  {
   "cell_type": "code",
   "execution_count": 10,
   "metadata": {},
   "outputs": [],
   "source": [
    "# crear método agregar_producto(self, nombre, precio, cantidad)\n",
    "inventario = []\n",
    "def agregar_producto(nombre, precio, cantidad):\n",
    "    for dicc in inventario: \n",
    "        if dicc[\"nombre\"] == nombre:\n",
    "            dicc[\"cantidad\"] += cantidad\n",
    "            print(\"El producto se ha modificado con éxito\")\n",
    "            return \n",
    "    inventario.append({\"nombre\": nombre, \"precio\": precio, \"cantidad\": cantidad})\n",
    "    print(\"se ha agregado el nuevo producto correctamente\")\n",
    "    \n",
    "\n",
    "    \n",
    "    "
   ]
  },
  {
   "cell_type": "code",
   "execution_count": 123,
   "metadata": {},
   "outputs": [
    {
     "name": "stdout",
     "output_type": "stream",
     "text": [
      "El producto se ha modificado con éxito\n"
     ]
    }
   ],
   "source": [
    "agregar_producto(\"eyeliner\", 6, 40)"
   ]
  },
  {
   "cell_type": "code",
   "execution_count": 27,
   "metadata": {},
   "outputs": [
    {
     "data": {
      "text/plain": [
       "[{'nombre': 'eyeliner', 'precio': 6, 'cantidad': 120}]"
      ]
     },
     "execution_count": 27,
     "metadata": {},
     "output_type": "execute_result"
    }
   ],
   "source": [
    "inventario"
   ]
  },
  {
   "cell_type": "code",
   "execution_count": 58,
   "metadata": {},
   "outputs": [],
   "source": [
    "inventario\n",
    "def actualizar_stock(nombre, cantidad):\n",
    "    for producto in inventario:\n",
    "        if producto[\"nombre\"] == nombre:\n",
    "            producto [\"cantidad\"] += cantidad\n",
    "            return f\"la cantidad del producto {nombre} ha sido actualizada correctamente.\"\n",
    "        else: \n",
    "            print(\"el producto indicado no existe actualmente\")\n"
   ]
  },
  {
   "cell_type": "code",
   "execution_count": 59,
   "metadata": {},
   "outputs": [
    {
     "name": "stdout",
     "output_type": "stream",
     "text": [
      "el producto indicado no existe actualmente\n"
     ]
    }
   ],
   "source": [
    "actualizar_stock(\"jabón\", 10)"
   ]
  },
  {
   "cell_type": "code",
   "execution_count": 60,
   "metadata": {},
   "outputs": [
    {
     "data": {
      "text/plain": [
       "[{'nombre': 'eyeliner', 'precio': 6, 'cantidad': 40}]"
      ]
     },
     "execution_count": 60,
     "metadata": {},
     "output_type": "execute_result"
    }
   ],
   "source": [
    "inventario"
   ]
  },
  {
   "cell_type": "code",
   "execution_count": 12,
   "metadata": {},
   "outputs": [],
   "source": [
    "inventario\n",
    "def eliminar_producto(nombre):\n",
    "    for producto in inventario:\n",
    "        if producto[\"nombre\"] == nombre:\n",
    "            inventario.remove(producto)\n",
    "            print(f\"El producto {nombre} ha sido eliminado  correctamente.\")\n",
    "        else: \n",
    "            print(\"el producto indicado no existe actualmente\")\n",
    "        return\n"
   ]
  },
  {
   "cell_type": "code",
   "execution_count": 62,
   "metadata": {},
   "outputs": [
    {
     "name": "stdout",
     "output_type": "stream",
     "text": [
      "el producto indicado no existe actualmente\n"
     ]
    }
   ],
   "source": [
    "eliminar_producto(\"pintalabios\")"
   ]
  },
  {
   "cell_type": "code",
   "execution_count": 13,
   "metadata": {},
   "outputs": [
    {
     "data": {
      "text/plain": [
       "[{'nombre': 'eyeliner', 'precio': 6, 'cantidad': 40}]"
      ]
     },
     "execution_count": 13,
     "metadata": {},
     "output_type": "execute_result"
    }
   ],
   "source": [
    "inventario"
   ]
  },
  {
   "cell_type": "code",
   "execution_count": 14,
   "metadata": {},
   "outputs": [],
   "source": [
    "def calcular_valor_inventario():\n",
    "    valor_total = 0\n",
    "    for producto in inventario: \n",
    "        valor_total += producto[\"cantidad\"] * producto[\"precio\"]\n",
    "    return valor_total"
   ]
  },
  {
   "cell_type": "code",
   "execution_count": 15,
   "metadata": {},
   "outputs": [
    {
     "data": {
      "text/plain": [
       "240"
      ]
     },
     "execution_count": 15,
     "metadata": {},
     "output_type": "execute_result"
    }
   ],
   "source": [
    "calcular_valor_inventario()"
   ]
  },
  {
   "cell_type": "code",
   "execution_count": 325,
   "metadata": {},
   "outputs": [],
   "source": [
    "\n",
    "carrito = []\n",
    "\n",
    "def realizar_compra():\n",
    "    total_compra = 0\n",
    "    print(inventario) \n",
    "    while True: \n",
    "        #solicitar nombre del producto al usuario\n",
    "        nombre_producto = input(\"Introduzca el nombre del producto que desea añadir al carrito. De lo contrario escriba: salir\").lower()\n",
    "        if nombre_producto == \"salir\":\n",
    "            break\n",
    "        for producto in inventario:\n",
    "            #por cada producto del inventario mirar si coincide con la respuesta del usuaria y si la cantidad es > \n",
    "            if producto[\"nombre\"] == nombre_producto and producto[\"cantidad\"] > 0:\n",
    "                carrito.append(nombre_producto)\n",
    "                print(f\"El carrito contiene: {carrito}\")\n",
    "                total_compra += producto[\"precio\"]\n",
    "                producto[\"cantidad\"] -= 1\n",
    "                print(f\"el producto {nombre_producto} se ha agregado correctamente al carrito\")\n",
    "                print(f\"el total de la compra es: {total_compra}€\")\n",
    "            else: \n",
    "                print(\"lo siento no tenemos disponibilidad de ese producto, introduzca uno de la lista\")\n",
    "            \n",
    "        "
   ]
  },
  {
   "cell_type": "code",
   "execution_count": 326,
   "metadata": {},
   "outputs": [
    {
     "name": "stdout",
     "output_type": "stream",
     "text": [
      "[{'nombre': 'eyeliner', 'precio': 6, 'cantidad': 37}]\n",
      "El carrito contiene: ['eyeliner']\n",
      "el producto eyeliner se ha agregado correctamente al carrito\n",
      "el total de la compra es: 6€\n"
     ]
    }
   ],
   "source": [
    "realizar_compra()"
   ]
  },
  {
   "cell_type": "code",
   "execution_count": 396,
   "metadata": {},
   "outputs": [
    {
     "data": {
      "text/plain": [
       "[{'nombre': 'eyeliner', 'precio': 6, 'cantidad': 36}]"
      ]
     },
     "execution_count": 396,
     "metadata": {},
     "output_type": "execute_result"
    }
   ],
   "source": [
    "inventario"
   ]
  },
  {
   "cell_type": "code",
   "execution_count": 16,
   "metadata": {},
   "outputs": [],
   "source": [
    "clientes = {}\n",
    "def agregar_clientes(nombre, email):\n",
    "    for nombre_cliente,datos_cliente in clientes.items():\n",
    "        if datos_cliente[\"nombre\"] == nombre:\n",
    "            print(f\"El cliente {nombre} ya consta en la base de datos.\")\n",
    "            return  # Si el cliente ya existe, termina la función\n",
    "# Verifica si el 'nombre' no existe en el diccionario de clientes\n",
    "    #if nombre in  clientes:\n",
    "            #print(f\"el cliente {nombre} ya consta en la base de datos.\")\n",
    "    nombre_cliente = f\"cliente{len(clientes)+1}\"\n",
    "    clientes[nombre_cliente] = {\"nombre\": nombre, \"email\": email}\n",
    "    print(f\"el cliente {nombre} se ha agregado correctamente\")\n",
    "   "
   ]
  },
  {
   "cell_type": "code",
   "execution_count": 21,
   "metadata": {},
   "outputs": [
    {
     "name": "stdout",
     "output_type": "stream",
     "text": [
      "el cliente Ana perez se ha agregado correctamente\n"
     ]
    },
    {
     "data": {
      "text/plain": [
       "{'cliente1': {'nombre': 'Ana perez', 'email': 'patrisainz@mail.com'}}"
      ]
     },
     "execution_count": 21,
     "metadata": {},
     "output_type": "execute_result"
    }
   ],
   "source": [
    "agregar_clientes(\"Ana perez\", \"patrisainz@mail.com\")\n",
    "clientes"
   ]
  },
  {
   "cell_type": "code",
   "execution_count": 19,
   "metadata": {},
   "outputs": [],
   "source": [
    "clientes = {}\n",
    "def ver_clientes():\n",
    "# Verificar si hay clientes en el diccionario\n",
    "    if not clientes:\n",
    "        print(\"No hay clientes registrados.\")\n",
    "        return\n",
    "\n",
    "    # Imprimir la lista de clientes con sus nombres y correos electrónicos\n",
    "\n",
    "    print(\"Lista de clientes registrados:\")\n",
    "    for nombre_cliente, datos_cliente in clientes.items():\n",
    "        nombre = datos_cliente[\"nombre\"]\n",
    "        email = datos_cliente[\"email\"]\n",
    "        print(f\"Cliente: {nombre_cliente}, Nombre: {nombre}, Email: {email}\")"
   ]
  },
  {
   "cell_type": "code",
   "execution_count": 22,
   "metadata": {},
   "outputs": [
    {
     "name": "stdout",
     "output_type": "stream",
     "text": [
      "Lista de clientes registrados:\n",
      "Cliente: cliente1, Nombre: Ana perez, Email: patrisainz@mail.com\n"
     ]
    }
   ],
   "source": [
    "ver_clientes()"
   ]
  },
  {
   "cell_type": "code",
   "execution_count": 290,
   "metadata": {},
   "outputs": [],
   "source": [
    "\n",
    "def procesar_pago():\n",
    "    try:\n",
    "        # Solicita la cantidad total de la compra y la cantidad con la que paga:\n",
    "        cantidad_total = float(input(\"Ingrese el total de la compra: €\"))\n",
    "        cantidad_pago = float(input(\"Ingrese la cantidad con la que paga: €\"))\n",
    "        \n",
    "        # Verificar si el pago es suficiente\n",
    "        if cantidad_pago < cantidad_total:\n",
    "            raise ValueError(\"Monto insuficiente\")\n",
    "        \n",
    "        # Calcula el cambio\n",
    "        cambio = cantidad_pago - cantidad_total\n",
    "        \n",
    "        # Muestra mensaje de éxito y el cambio redondeando decimales a 2\n",
    "        print(f\"Pago procesado con éxito. Su cambio es: €{cambio:.2f}\")\n",
    "    \n",
    "    except ValueError as e:\n",
    "        # Maneja errores relacionados con el tipo de dato o con monto insuficiente\n",
    "        print(f\"Error: {e}. Intente nuevamente.\")\n",
    "\n",
    "        "
   ]
  },
  {
   "cell_type": "code",
   "execution_count": 291,
   "metadata": {},
   "outputs": [
    {
     "name": "stdout",
     "output_type": "stream",
     "text": [
      "Error: could not convert string to float: 'treinta'. Intente nuevamente.\n"
     ]
    }
   ],
   "source": [
    "procesar_pago()"
   ]
  },
  {
   "cell_type": "code",
   "execution_count": 162,
   "metadata": {},
   "outputs": [],
   "source": [
    "def registrar_compra(nombre_cliente, carrito):\n",
    "    carrito_cliente = {}\n",
    "    total_compra = 0\n",
    "    \n",
    "    #verificar si el producto y el cliente indicado están en la base de datos\n",
    "    if nombre_cliente not in clientes:\n",
    "        print(f\"El cliente {nombre_cliente} no está registrado.\")\n",
    "        return\n",
    "    \n",
    "    # Comprobar si el producto está en el inventario\n",
    "    for producto_carrito, detalles_carrito in carrito.items():\n",
    "        for producto_inventario in inventario:\n",
    "            if producto_inventario[\"nombre\"] == producto_carrito:\n",
    "                producto_encontrado = producto_inventario\n",
    "                #break\n",
    "        #si el producto está en stock\n",
    "                   # Verificar si hay suficiente stock\n",
    "                cantidad_disponible = producto_encontrado[\"cantidad\"]\n",
    "                cantidad_solicitada = detalles_carrito[\"cantidad\"]\n",
    "            \n",
    "                if cantidad_solicitada <= cantidad_disponible:\n",
    "                    subtotal = cantidad_solicitada * producto_encontrado[\"precio\"]\n",
    "                    total_compra += subtotal  # Incrementar el total de la compra\n",
    "                    carrito_cliente[producto_carrito] = {\"precio\": producto_encontrado[\"precio\"],\"cantidad\": cantidad_solicitada, \"total compra\": total_compra}\n",
    "                    # Reducir el stock del producto en el inventario\n",
    "                    producto_encontrado[\"cantidad\"] -= cantidad_solicitada\n",
    "                    print(f\"Producto agregado: {producto_carrito}, total hasta ahora: {total_compra}€\")\n",
    "                else:\n",
    "                    print(f\"No hay suficiente stock para {producto_carrito}. Stock disponible: {cantidad_disponible}\")\n",
    "            else:\n",
    "                print(f\"El producto '{producto_carrito}' no está disponible en el inventario.\")\n",
    "\n",
    "    # registrar la compra\n",
    "    clientes[nombre_cliente][\"compras\"].append(carrito_cliente)\n",
    "    # Actualizar las ventas totales de la tienda\n",
    "    print(f\"Compra registrada para {nombre_cliente}. Total: {total_compra}€\")\n"
   ]
  },
  {
   "cell_type": "code",
   "execution_count": 163,
   "metadata": {},
   "outputs": [
    {
     "name": "stdout",
     "output_type": "stream",
     "text": [
      "Producto agregado: eyeliner, total hasta ahora: 12€\n",
      "Compra registrada para cliente1. Total: 12€\n"
     ]
    }
   ],
   "source": [
    "carrito = {\"eyeliner\":{\"precio\": 6, \"cantidad\": 2}}\n",
    "registrar_compra(\"cliente1\", carrito)\n"
   ]
  },
  {
   "cell_type": "code",
   "execution_count": 164,
   "metadata": {},
   "outputs": [],
   "source": [
    "def ver_compras_cliente(nombre_cliente):\n",
    "    for cliente in clientes: \n",
    "        if nombre_cliente:\n",
    "            return clientes[nombre_cliente][\"compras\"]"
   ]
  },
  {
   "cell_type": "code",
   "execution_count": 165,
   "metadata": {},
   "outputs": [
    {
     "data": {
      "text/plain": [
       "[{'productos': {}, 'total': 0},\n",
       " {'eyeliner': {'precio': 6, 'cantidad': 2}},\n",
       " {'eyeliner': {'precio': 6, 'cantidad': 2}},\n",
       " {},\n",
       " {'eyeliner': {'precio': 6, 'cantidad': 2}},\n",
       " {'eyeliner': {'precio': 6, 'cantidad': 2}},\n",
       " {'eyeliner': {'precio': 6, 'cantidad': 2}},\n",
       " {'eyeliner': {'precio': 6, 'cantidad': 2}},\n",
       " 12,\n",
       " {'eyeliner': {'precio': 6, 'cantidad': 2, 'total compra': 12}}]"
      ]
     },
     "execution_count": 165,
     "metadata": {},
     "output_type": "execute_result"
    }
   ],
   "source": [
    "ver_compras_cliente(\"cliente1\")"
   ]
  },
  {
   "cell_type": "code",
   "execution_count": 166,
   "metadata": {},
   "outputs": [],
   "source": [
    "def calcular_ventas_totales():\n",
    "    total_ventas = 0\n",
    "    # Recorremos todos los clientes y sus compras\n",
    "    for cliente, datos in clientes.items():\n",
    "        if \"compras\" in datos:\n",
    "            for compra in datos[\"compras\"]:\n",
    "                total_ventas += compra[\"total compra\"]\n",
    "                print(f\"El total de ventas de la tienda es: {total_ventas}€\")\n",
    "        return total_ventas"
   ]
  },
  {
   "cell_type": "code",
   "execution_count": 167,
   "metadata": {},
   "outputs": [
    {
     "ename": "KeyError",
     "evalue": "'total compra'",
     "output_type": "error",
     "traceback": [
      "\u001b[0;31m---------------------------------------------------------------------------\u001b[0m",
      "\u001b[0;31mKeyError\u001b[0m                                  Traceback (most recent call last)",
      "Cell \u001b[0;32mIn[167], line 1\u001b[0m\n\u001b[0;32m----> 1\u001b[0m \u001b[43mcalcular_ventas_totales\u001b[49m\u001b[43m(\u001b[49m\u001b[43m)\u001b[49m\n",
      "Cell \u001b[0;32mIn[166], line 8\u001b[0m, in \u001b[0;36mcalcular_ventas_totales\u001b[0;34m()\u001b[0m\n\u001b[1;32m      5\u001b[0m \u001b[38;5;28;01mif\u001b[39;00m \u001b[38;5;124m\"\u001b[39m\u001b[38;5;124mcompras\u001b[39m\u001b[38;5;124m\"\u001b[39m \u001b[38;5;129;01min\u001b[39;00m datos:\n\u001b[1;32m      6\u001b[0m     \u001b[38;5;28;01mfor\u001b[39;00m compra \u001b[38;5;129;01min\u001b[39;00m datos[\u001b[38;5;124m\"\u001b[39m\u001b[38;5;124mcompras\u001b[39m\u001b[38;5;124m\"\u001b[39m]:\n\u001b[0;32m----> 8\u001b[0m         total_ventas \u001b[38;5;241m+\u001b[39m\u001b[38;5;241m=\u001b[39m \u001b[43mcompra\u001b[49m\u001b[43m[\u001b[49m\u001b[38;5;124;43m\"\u001b[39;49m\u001b[38;5;124;43mtotal compra\u001b[39;49m\u001b[38;5;124;43m\"\u001b[39;49m\u001b[43m]\u001b[49m\n\u001b[1;32m      9\u001b[0m         \u001b[38;5;28mprint\u001b[39m(\u001b[38;5;124mf\u001b[39m\u001b[38;5;124m\"\u001b[39m\u001b[38;5;124mEl total de ventas de la tienda es: \u001b[39m\u001b[38;5;132;01m{\u001b[39;00mtotal_ventas\u001b[38;5;132;01m}\u001b[39;00m\u001b[38;5;124m€\u001b[39m\u001b[38;5;124m\"\u001b[39m)\n\u001b[1;32m     10\u001b[0m \u001b[38;5;28;01mreturn\u001b[39;00m total_ventas\n",
      "\u001b[0;31mKeyError\u001b[0m: 'total compra'"
     ]
    }
   ],
   "source": [
    "calcular_ventas_totales()"
   ]
  }
 ],
 "metadata": {
  "kernelspec": {
   "display_name": "Python 3",
   "language": "python",
   "name": "python3"
  },
  "language_info": {
   "codemirror_mode": {
    "name": "ipython",
    "version": 3
   },
   "file_extension": ".py",
   "mimetype": "text/x-python",
   "name": "python",
   "nbconvert_exporter": "python",
   "pygments_lexer": "ipython3",
   "version": "3.12.4"
  }
 },
 "nbformat": 4,
 "nbformat_minor": 2
}
