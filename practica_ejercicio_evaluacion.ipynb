{
 "cells": [
  {
   "cell_type": "code",
   "execution_count": 55,
   "metadata": {},
   "outputs": [],
   "source": [
    "# crear método agregar_producto(self, nombre, precio, cantidad)\n",
    "inventario = []\n",
    "def agregar_producto(nombre, precio, cantidad):\n",
    "    for dicc in inventario: \n",
    "        if dicc[\"nombre\"] == nombre:\n",
    "            dicc[\"cantidad\"] += cantidad\n",
    "            print(\"El producto se ha modificado con éxito\")\n",
    "            return \n",
    "    inventario.append({\"nombre\": nombre, \"precio\": precio, \"cantidad\": cantidad})\n",
    "    print(\"se ha agregado el nuevo producto correctamente\")\n",
    "    \n",
    "\n",
    "    \n",
    "    "
   ]
  },
  {
   "cell_type": "code",
   "execution_count": 56,
   "metadata": {},
   "outputs": [
    {
     "name": "stdout",
     "output_type": "stream",
     "text": [
      "se ha agregado el nuevo producto correctamente\n"
     ]
    }
   ],
   "source": [
    "agregar_producto(\"eyeliner\", 6, 40)"
   ]
  },
  {
   "cell_type": "code",
   "execution_count": 57,
   "metadata": {},
   "outputs": [
    {
     "data": {
      "text/plain": [
       "[{'nombre': 'eyeliner', 'precio': 6, 'cantidad': 40}]"
      ]
     },
     "execution_count": 57,
     "metadata": {},
     "output_type": "execute_result"
    }
   ],
   "source": [
    "inventario"
   ]
  },
  {
   "cell_type": "code",
   "execution_count": 58,
   "metadata": {},
   "outputs": [],
   "source": [
    "inventario\n",
    "def actualizar_stock(nombre, cantidad):\n",
    "    for producto in inventario:\n",
    "        if producto[\"nombre\"] == nombre:\n",
    "            producto [\"cantidad\"] += cantidad\n",
    "            return f\"la cantidad del producto {nombre} ha sido actualizada correctamente.\"\n",
    "        else: \n",
    "            print(\"el producto indicado no existe actualmente\")\n"
   ]
  },
  {
   "cell_type": "code",
   "execution_count": 59,
   "metadata": {},
   "outputs": [
    {
     "name": "stdout",
     "output_type": "stream",
     "text": [
      "el producto indicado no existe actualmente\n"
     ]
    }
   ],
   "source": [
    "actualizar_stock(\"jabón\", 10)"
   ]
  },
  {
   "cell_type": "code",
   "execution_count": 60,
   "metadata": {},
   "outputs": [
    {
     "data": {
      "text/plain": [
       "[{'nombre': 'eyeliner', 'precio': 6, 'cantidad': 40}]"
      ]
     },
     "execution_count": 60,
     "metadata": {},
     "output_type": "execute_result"
    }
   ],
   "source": [
    "inventario"
   ]
  },
  {
   "cell_type": "code",
   "execution_count": 61,
   "metadata": {},
   "outputs": [],
   "source": [
    "inventario\n",
    "def eliminar_producto(nombre):\n",
    "    for producto in inventario:\n",
    "        if producto[\"nombre\"] == nombre:\n",
    "            inventario.remove(producto)\n",
    "            print(f\"El producto {nombre} ha sido eliminado  correctamente.\")\n",
    "        else: \n",
    "            print(\"el producto indicado no existe actualmente\")\n",
    "        return\n"
   ]
  },
  {
   "cell_type": "code",
   "execution_count": 62,
   "metadata": {},
   "outputs": [
    {
     "name": "stdout",
     "output_type": "stream",
     "text": [
      "el producto indicado no existe actualmente\n"
     ]
    }
   ],
   "source": [
    "eliminar_producto(\"pintalabios\")"
   ]
  },
  {
   "cell_type": "code",
   "execution_count": 63,
   "metadata": {},
   "outputs": [
    {
     "data": {
      "text/plain": [
       "[{'nombre': 'eyeliner', 'precio': 6, 'cantidad': 40}]"
      ]
     },
     "execution_count": 63,
     "metadata": {},
     "output_type": "execute_result"
    }
   ],
   "source": [
    "inventario"
   ]
  },
  {
   "cell_type": "code",
   "execution_count": 64,
   "metadata": {},
   "outputs": [],
   "source": [
    "def calcular_valor_inventario():\n",
    "    valor_total = 0\n",
    "    for producto in inventario: \n",
    "        valor_total += producto[\"cantidad\"] * producto[\"precio\"]\n",
    "    return valor_total"
   ]
  },
  {
   "cell_type": "code",
   "execution_count": 65,
   "metadata": {},
   "outputs": [
    {
     "data": {
      "text/plain": [
       "240"
      ]
     },
     "execution_count": 65,
     "metadata": {},
     "output_type": "execute_result"
    }
   ],
   "source": [
    "calcular_valor_inventario()"
   ]
  },
  {
   "cell_type": "code",
   "execution_count": 67,
   "metadata": {},
   "outputs": [],
   "source": [
    "def realizar_compra():\n",
    "    carrito = []\n",
    "    total_compra = 0\n",
    "    print(inventario)  # poner función ver_inventario\n",
    "    while True: \n",
    "        #solicitar nombre del producto al usuario\n",
    "        nombre_producto = input(\"Introduzca el nombre del producto que desea añadir al carrito. De lo contrario escriba: salir\").lower()\n",
    "        if nombre_producto == \"salir\":\n",
    "            break\n",
    "        for producto in inventario:\n",
    "            #por cada producto del inventario mirar si coincide con la respuesta del usuaria y si la cantidad es > \n",
    "            if producto[\"nombre\"] == nombre_producto and producto[\"cantidad\"] > 0:\n",
    "                carrito.append(nombre_producto)\n",
    "                print(f\"El carrito contiene: {carrito}\")\n",
    "                total_compra += producto[\"precio\"]\n",
    "                producto[\"cantidad\"] -= 1\n",
    "                print(f\"el producto {nombre_producto} se ha agregado correctamente al carrito\")\n",
    "                print(f\"el total de la compra es: {total_compra}€\")\n",
    "            else: \n",
    "                print(\"lo siento no tenemos disponibilidad de ese producto, introduzca uno de la lista\")\n",
    "            \n",
    "        "
   ]
  },
  {
   "cell_type": "code",
   "execution_count": 68,
   "metadata": {},
   "outputs": [
    {
     "name": "stdout",
     "output_type": "stream",
     "text": [
      "[{'nombre': 'eyeliner', 'precio': 6, 'cantidad': 40}]\n",
      "El carrito contiene: ['eyeliner']\n",
      "el producto eyeliner se ha agregado correctamente al carrito\n",
      "el total de la compra es: 6€\n"
     ]
    }
   ],
   "source": [
    "realizar_compra()"
   ]
  },
  {
   "cell_type": "code",
   "execution_count": 33,
   "metadata": {},
   "outputs": [
    {
     "data": {
      "text/plain": [
       "[{'nombre': 'blush', 'precio': 6, 'cantidad': 24}]"
      ]
     },
     "execution_count": 33,
     "metadata": {},
     "output_type": "execute_result"
    }
   ],
   "source": [
    "inventario"
   ]
  },
  {
   "cell_type": "code",
   "execution_count": 238,
   "metadata": {},
   "outputs": [],
   "source": [
    "clientes = {}\n",
    "def agregar_clientes(nombre, email):\n",
    "    # Verifica si el 'nombre' no existe en el diccionario de clientes\n",
    "    codigo_cliente = f\"Cliente{len(clientes) + 1}\"\n",
    "    for cliente in clientes:\n",
    "        if nombre not in clientes.values():\n",
    "            cliente[codigo_cliente] = {\"nombre\": nombre, \"email\": email}\n",
    "        return clientes\n",
    "    print(\"El cliente ya está en la base de datos\")\n",
    "    \n",
    "    \n",
    "   "
   ]
  },
  {
   "cell_type": "code",
   "execution_count": 239,
   "metadata": {},
   "outputs": [
    {
     "name": "stdout",
     "output_type": "stream",
     "text": [
      "El cliente ya está en la base de datos\n"
     ]
    }
   ],
   "source": [
    "agregar_clientes(\"Anas Pérez\", \"perezcris@mail.com\")"
   ]
  },
  {
   "cell_type": "code",
   "execution_count": 240,
   "metadata": {},
   "outputs": [
    {
     "data": {
      "text/plain": [
       "{}"
      ]
     },
     "execution_count": 240,
     "metadata": {},
     "output_type": "execute_result"
    }
   ],
   "source": [
    "clientes"
   ]
  }
 ],
 "metadata": {
  "kernelspec": {
   "display_name": "Python 3",
   "language": "python",
   "name": "python3"
  },
  "language_info": {
   "codemirror_mode": {
    "name": "ipython",
    "version": 3
   },
   "file_extension": ".py",
   "mimetype": "text/x-python",
   "name": "python",
   "nbconvert_exporter": "python",
   "pygments_lexer": "ipython3",
   "version": "3.12.4"
  }
 },
 "nbformat": 4,
 "nbformat_minor": 2
}
