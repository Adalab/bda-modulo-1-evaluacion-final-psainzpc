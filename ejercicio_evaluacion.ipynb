{
 "cells": [
  {
   "cell_type": "markdown",
   "metadata": {},
   "source": [
    "## EJERCICIO EVALUACIÓN MODULO 1:\n",
    "### Crear una clase TiendaOnLine"
   ]
  },
  {
   "cell_type": "code",
   "execution_count": null,
   "metadata": {},
   "outputs": [],
   "source": []
  },
  {
   "cell_type": "code",
   "execution_count": 110,
   "metadata": {},
   "outputs": [],
   "source": [
    "class TiendaOnLine:\n",
    "#constructor (definir los atributos)\n",
    "    def __init__(self):\n",
    "        self.inventario = []\n",
    "        self.clientes = {}\n",
    "        self.ventas_totales = 0.00\n",
    "    \n",
    "    def agregar_producto(self, nombre, precio, cantidad):\n",
    "        for dicc in self.inventario:\n",
    "            if dicc[\"nombre\"] == nombre:\n",
    "                print(\"el producto ya consta en stock\")\n",
    "                dicc[\"cantidad\"] += cantidad\n",
    "                print(\"El producto se ha modificado con éxito\")\n",
    "                return\n",
    "        self.inventario.append({\"nombre\": nombre, \"precio\": precio, \"cantidad\": cantidad})\n",
    "        print(\"se ha agregado el nuevo producto correctamente\")     \n",
    "        \n",
    "    def ver_inventario(self):\n",
    "        print(\"Inventario de productos:\")\n",
    "        for producto in self.inventario:\n",
    "            nombre = producto['nombre']\n",
    "            precio = producto['precio']\n",
    "            cantidad = producto['cantidad']\n",
    "            print(f\"Nombre: {nombre}, Precio: €{precio}, Cantidad: {cantidad}\")\n",
    "\n",
    "    \n",
    "    def actualizar_stock(self, nombre, cantidad):\n",
    "        for producto in self.inventario:\n",
    "            if producto[\"nombre\"] == nombre:\n",
    "                producto [\"cantidad\"] += cantidad\n",
    "                return f\"la cantidad del producto {nombre} ha sido actualizada correctamente.\"\n",
    "        \n",
    "        print(\"el producto indicado no existe actualmente\")\n",
    "\n",
    "    def eliminar_producto(self, nombre):\n",
    "        for producto in self.inventario:\n",
    "            if producto[\"nombre\"] == nombre:\n",
    "                self.inventario.remove(producto)\n",
    "                return f\"El producto {nombre} ha sido eliminado  correctamente.\"\n",
    "            \n",
    "        print(\"el producto indicado no existe actualmente\")\n",
    "        \n",
    "    def calcular_valor_inventario(self):\n",
    "        valor_inventario = 0\n",
    "        for producto in self.inventario: \n",
    "            valor_inventario =+ producto[\"cantidad\"] * producto[\"precio\"]\n",
    "        return valor_inventario\n",
    "    \n",
    "    def realizar_compra(self):\n",
    "        carrito = []\n",
    "        total_compra = 0\n",
    "        print(self.inventario)  # poner función ver_inventario\n",
    "        while True: \n",
    "            #solicitar nombre del producto al usuario\n",
    "            nombre_producto = input(\"Introduzca el nombre del producto que desea añadir al carrito. De lo contrario escriba: salir\").lower()\n",
    "            if nombre_producto == \"salir\":\n",
    "                break\n",
    "            for producto in self.inventario:\n",
    "                #por cada producto del inventario mirar si coincide con la respuesta del usuaria y si la cantidad es > \n",
    "                if producto[\"nombre\"] == nombre_producto and producto[\"cantidad\"] > 0:\n",
    "                    carrito.append(nombre_producto)\n",
    "                    print(f\"El carrito contiene: {carrito}\")\n",
    "                    total_compra += producto[\"precio\"]\n",
    "                    producto[\"cantidad\"] -= 1\n",
    "                    print(f\"el producto {nombre_producto} se ha agregado correctamente al carrito\")\n",
    "                    print(f\"el total de la compra es: {total_compra}€\")\n",
    "                \n",
    "            print(\"lo siento no tenemos disponibilidad de ese producto, introduzca uno de la lista\")\n",
    "        "
   ]
  },
  {
   "cell_type": "code",
   "execution_count": 111,
   "metadata": {},
   "outputs": [],
   "source": [
    "mi_tienda_online = TiendaOnLine()"
   ]
  },
  {
   "cell_type": "code",
   "execution_count": 112,
   "metadata": {},
   "outputs": [
    {
     "name": "stdout",
     "output_type": "stream",
     "text": [
      "se ha agregado el nuevo producto correctamente\n"
     ]
    }
   ],
   "source": [
    "mi_tienda_online.agregar_producto(\"rimmel\", 11, 25)"
   ]
  },
  {
   "cell_type": "code",
   "execution_count": 113,
   "metadata": {},
   "outputs": [
    {
     "name": "stdout",
     "output_type": "stream",
     "text": [
      "se ha agregado el nuevo producto correctamente\n"
     ]
    }
   ],
   "source": [
    "mi_tienda_online.agregar_producto(\"pintalabios\", 9, 30)"
   ]
  },
  {
   "cell_type": "code",
   "execution_count": 114,
   "metadata": {},
   "outputs": [
    {
     "name": "stdout",
     "output_type": "stream",
     "text": [
      "Inventario de productos:\n",
      "Nombre: rimmel, Precio: €11, Cantidad: 25\n",
      "Nombre: pintalabios, Precio: €9, Cantidad: 30\n"
     ]
    }
   ],
   "source": [
    "mi_tienda_online.ver_inventario()"
   ]
  },
  {
   "cell_type": "code",
   "execution_count": 115,
   "metadata": {},
   "outputs": [
    {
     "name": "stdout",
     "output_type": "stream",
     "text": [
      "el producto indicado no existe actualmente\n"
     ]
    }
   ],
   "source": [
    "mi_tienda_online.actualizar_stock(\"jabón\", 5)"
   ]
  },
  {
   "cell_type": "code",
   "execution_count": 116,
   "metadata": {},
   "outputs": [
    {
     "name": "stdout",
     "output_type": "stream",
     "text": [
      "el producto indicado no existe actualmente\n"
     ]
    }
   ],
   "source": [
    "mi_tienda_online.eliminar_producto(\"jabón\")"
   ]
  },
  {
   "cell_type": "code",
   "execution_count": 117,
   "metadata": {},
   "outputs": [
    {
     "data": {
      "text/plain": [
       "[{'nombre': 'rimmel', 'precio': 11, 'cantidad': 25},\n",
       " {'nombre': 'pintalabios', 'precio': 9, 'cantidad': 30}]"
      ]
     },
     "execution_count": 117,
     "metadata": {},
     "output_type": "execute_result"
    }
   ],
   "source": [
    "mi_tienda_online.inventario"
   ]
  },
  {
   "cell_type": "code",
   "execution_count": 118,
   "metadata": {},
   "outputs": [
    {
     "data": {
      "text/plain": [
       "270"
      ]
     },
     "execution_count": 118,
     "metadata": {},
     "output_type": "execute_result"
    }
   ],
   "source": [
    "mi_tienda_online.calcular_valor_inventario()"
   ]
  },
  {
   "cell_type": "code",
   "execution_count": 119,
   "metadata": {},
   "outputs": [
    {
     "name": "stdout",
     "output_type": "stream",
     "text": [
      "<function TiendaOnLine.ver_inventario at 0x124ad4040>\n",
      "El carrito contiene: ['rimmel']\n",
      "el producto rimmel se ha agregado correctamente al carrito\n",
      "el total de la compra es: 11€\n",
      "lo siento no tenemos disponibilidad de ese producto, introduzca uno de la lista\n"
     ]
    }
   ],
   "source": [
    "mi_tienda_online.realizar_compra()"
   ]
  }
 ],
 "metadata": {
  "kernelspec": {
   "display_name": "Python 3",
   "language": "python",
   "name": "python3"
  },
  "language_info": {
   "codemirror_mode": {
    "name": "ipython",
    "version": 3
   },
   "file_extension": ".py",
   "mimetype": "text/x-python",
   "name": "python",
   "nbconvert_exporter": "python",
   "pygments_lexer": "ipython3",
   "version": "3.12.4"
  }
 },
 "nbformat": 4,
 "nbformat_minor": 2
}
