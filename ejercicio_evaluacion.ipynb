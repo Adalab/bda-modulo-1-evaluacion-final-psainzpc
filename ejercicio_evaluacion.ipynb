{
 "cells": [
  {
   "cell_type": "markdown",
   "metadata": {},
   "source": [
    "## EJERCICIO EVALUACIÓN MODULO 1:\n",
    "### Crear una clase TiendaOnLine"
   ]
  },
  {
   "cell_type": "code",
   "execution_count": null,
   "metadata": {},
   "outputs": [],
   "source": []
  },
  {
   "cell_type": "code",
   "execution_count": 26,
   "metadata": {},
   "outputs": [],
   "source": [
    "class TiendaOnLine:\n",
    "#constructor (definir los atributos)\n",
    "    def __init__(self):\n",
    "        self.inventario = []\n",
    "        self.clientes = {}\n",
    "        self.ventas_totales = 0.00\n",
    "    \n",
    "    def agregar_producto(self, nombre, precio, cantidad):\n",
    "        for dicc in self.inventario:\n",
    "            if dicc[\"nombre\"] == nombre:\n",
    "                print(\"el producto ya consta en stock\")\n",
    "                dicc[\"cantidad\"] += cantidad\n",
    "                print(\"El producto se ha modificado con éxito\")\n",
    "            return \n",
    "        self.inventario.append({\"nombre\": nombre, \"precio\": precio, \"cantidad\": cantidad})\n",
    "        print(\"se ha agregado el nuevo producto correctamente\")\n",
    "    \n",
    "    def ver_inventario(self):\n",
    "        for producto in self.inventario:\n",
    "            return producto \n",
    "    #¡¡¡¡ mejorar como se imprime\n",
    "    \n",
    "    def actualizar_stock(self, nombre, cantidad):\n",
    "        for producto in self.inventario:\n",
    "            if producto[\"nombre\"] == nombre:\n",
    "                producto [\"cantidad\"] += cantidad\n",
    "                return f\"la cantidad del producto {nombre} ha sido actualizada correctamente.\"\n",
    "            else: \n",
    "                print(\"el producto indicado no existe actualmente\")"
   ]
  },
  {
   "cell_type": "code",
   "execution_count": 27,
   "metadata": {},
   "outputs": [],
   "source": [
    "mi_tienda_online = TiendaOnLine()"
   ]
  },
  {
   "cell_type": "code",
   "execution_count": 28,
   "metadata": {},
   "outputs": [
    {
     "name": "stdout",
     "output_type": "stream",
     "text": [
      "se ha agregado el nuevo producto correctamente\n"
     ]
    }
   ],
   "source": [
    "mi_tienda_online.agregar_producto( \"pintalabios\", 9, 20)"
   ]
  },
  {
   "cell_type": "code",
   "execution_count": 29,
   "metadata": {},
   "outputs": [
    {
     "data": {
      "text/plain": [
       "{'nombre': 'pintalabios', 'precio': 9, 'cantidad': 20}"
      ]
     },
     "execution_count": 29,
     "metadata": {},
     "output_type": "execute_result"
    }
   ],
   "source": [
    "mi_tienda_online.ver_inventario()"
   ]
  },
  {
   "cell_type": "code",
   "execution_count": 31,
   "metadata": {},
   "outputs": [
    {
     "name": "stdout",
     "output_type": "stream",
     "text": [
      "el producto indicado no existe actualmente\n"
     ]
    }
   ],
   "source": [
    "mi_tienda_online.actualizar_stock(\"mascarilla\", 5)"
   ]
  }
 ],
 "metadata": {
  "kernelspec": {
   "display_name": "Python 3",
   "language": "python",
   "name": "python3"
  },
  "language_info": {
   "codemirror_mode": {
    "name": "ipython",
    "version": 3
   },
   "file_extension": ".py",
   "mimetype": "text/x-python",
   "name": "python",
   "nbconvert_exporter": "python",
   "pygments_lexer": "ipython3",
   "version": "3.12.4"
  }
 },
 "nbformat": 4,
 "nbformat_minor": 2
}
