{
 "cells": [
  {
   "cell_type": "markdown",
   "metadata": {},
   "source": [
    "## EJERCICIO EVALUACIÓN MODULO 1:\n",
    "### Crear una clase TiendaOnLine"
   ]
  },
  {
   "cell_type": "code",
   "execution_count": null,
   "metadata": {},
   "outputs": [],
   "source": []
  },
  {
   "cell_type": "code",
   "execution_count": 225,
   "metadata": {},
   "outputs": [],
   "source": [
    "class TiendaOnLine:\n",
    "#constructor (definir los atributos)\n",
    "    def __init__(self):\n",
    "        self.inventario = []\n",
    "        self.clientes = {}\n",
    "        self.ventas_totales = 0.00\n",
    "\n",
    " #MÉTODO PARA AGREGAR PRODUCTO AL INVENTARIO\n",
    "    def agregar_producto(self, nombre, precio, cantidad):\n",
    "        #bucle for para que entre en cada uno de los diccionarios\n",
    "        for dicc in self.inventario:\n",
    "            if dicc[\"nombre\"] == nombre:\n",
    "                print(\"el producto ya consta en stock\")\n",
    "                dicc[\"cantidad\"] += cantidad\n",
    "                print(\"El producto se ha modificado con éxito\")\n",
    "                return\n",
    "        #si no está el producto, que se agregue a la lista inventario con un append\n",
    "        self.inventario.append({\"nombre\": nombre, \"precio\": precio, \"cantidad\": cantidad})\n",
    "        print(\"se ha agregado el nuevo producto correctamente\")     \n",
    "\n",
    "#MÉTODO PARA VER INVENTARIO DE UNA MANERA MAS VISUAL     \n",
    "    def ver_inventario(self):\n",
    "        print(\"Inventario de productos:\")\n",
    "        for producto in self.inventario:\n",
    "            #para que aparezca de manera ordenada creo distintas variables con los distintos argumentos de cada diccionario\n",
    "            nombre = producto['nombre']\n",
    "            precio = producto['precio']\n",
    "            cantidad = producto['cantidad']\n",
    "            print(f\"Nombre: {nombre}, Precio: €{precio}, Cantidad: {cantidad}\")\n",
    "\n",
    "#MÉTODO PARA ACTUALIZAR EL STOCK DEL INVENTARIO    \n",
    "    def actualizar_stock(self, nombre, cantidad):\n",
    "        for producto in self.inventario:\n",
    "            if producto[\"nombre\"] == nombre:\n",
    "                producto [\"cantidad\"] += cantidad\n",
    "                return f\"la cantidad del producto {nombre} ha sido actualizada correctamente.\"\n",
    "        #si el producto no existe:\n",
    "        print(\"el producto indicado no existe actualmente\")\n",
    "\n",
    "#MÉTODO PARA ELIMINAR UN PRODUCTO DEL INVENTARIO\n",
    "    def eliminar_producto(self, nombre):\n",
    "        for producto in self.inventario:\n",
    "            if producto[\"nombre\"] == nombre:\n",
    "                #para eliminar el producto utilizo el remove porque es la forma de eliminar un elemento especifico en listas(inventario)\n",
    "                self.inventario.remove(producto)\n",
    "                return f\"El producto {nombre} ha sido eliminado  correctamente.\"\n",
    "         #si el producto no existe:   \n",
    "        print(\"el producto indicado no existe actualmente\")\n",
    "\n",
    "#MÉTODO PARA CALCULAR EL VALOR DEL INVENTARIO        \n",
    "    def calcular_valor_inventario(self):\n",
    "        valor_inventario = 0\n",
    "        for producto in self.inventario: \n",
    "            #para que el valor del inventario vaya incrementando: =+; el valor es la cantidad de cada producto por el precio.\n",
    "            valor_inventario =+ producto[\"cantidad\"] * producto[\"precio\"]\n",
    "        return valor_inventario\n",
    "    \n",
    "#MÉTODO PARA REALIZAR COMPRA  \n",
    "    def realizar_compra(self):\n",
    "        #para que muestre el carrito:\n",
    "        carrito = []\n",
    "        #para calcular el importe total de lo añadido en el carrito\n",
    "        total_compra = 0\n",
    "        print(self.inventario)\n",
    "        print(\"....................\")\n",
    "        while True: \n",
    "            #solicitar nombre del producto al usuario y crear opción de salir. \n",
    "            nombre_producto = input(\"Introduzca el nombre del producto que desea añadir al carrito. De lo contrario escriba: salir\").lower()\n",
    "            #para poder verificar si el producto está en stock o no: \n",
    "            producto_stock = False\n",
    "            if nombre_producto == \"salir\":\n",
    "                break\n",
    "            for producto in self.inventario:\n",
    "                #por cada producto del inventario mirar si coincide con la respuesta de la usuaria y si la cantidad es >0\n",
    "                if producto[\"nombre\"] == nombre_producto and producto[\"cantidad\"] > 0:\n",
    "                    #para que agregue el producto indicado en la lista carrito que cree al principio:\n",
    "                    carrito.append(nombre_producto)\n",
    "                    total_compra += producto[\"precio\"]\n",
    "                    #para que reste el producto seleccionado en el inventario:\n",
    "                    producto[\"cantidad\"] -= 1\n",
    "                    print(f\"el producto {nombre_producto} se ha agregado correctamente. Carrito: {carrito}\")\n",
    "                    print(\"............................\")\n",
    "                    print(f\"el total de la compra es: {total_compra}€\")\n",
    "                    producto_stock = True\n",
    "        \n",
    "            #Si no existe el nombre introducido o no hay cantidad del producto indicado:    \n",
    "            if not producto_stock:\n",
    "                print(\"lo siento no tenemos disponibilidad de ese producto, introduzca uno de la lista\")\n",
    "\n",
    "#MÉTODO PARA PROCESAR PAGO\n",
    "    def procesar_pago(self):\n",
    "        try:\n",
    "            # Solicita la cantidad total de la compra y la cantidad con la que paga:\n",
    "            cantidad_total = float(input(\"Ingrese el total de la compra: €\"))\n",
    "            print(f\"cantidad total a pagar: {cantidad_total}\")\n",
    "            print(\"........................\")\n",
    "            cantidad_pago = float(input(\"Ingrese la cantidad con la que paga: €\"))\n",
    "            # Verificar si el pago es suficiente, si no imprimirlo.\n",
    "            print(f\"cantidad introducida para pagar: {cantidad_pago}\")\n",
    "            print(\"........................\")\n",
    "            if cantidad_pago < cantidad_total:\n",
    "                print(\"Monto insuficiente\")\n",
    "            # Calcula el cambio\n",
    "            else:\n",
    "                cambio = cantidad_pago - cantidad_total\n",
    "            # Muestra mensaje de éxito y el cambio redondeando decimales a 2\n",
    "                print(f\"Pago procesado con éxito. Su cambio es: €{cambio:.2f}\")\n",
    "        except ValueError as e:\n",
    "            # Maneja errores relacionados con el tipo de dato o con monto insuficiente\n",
    "            print(f\"Error: {e}. Intente nuevamente.\")\n",
    "\n",
    "#MÉTODO PARA AGREGAR CLIENTES AL DICCIONARIO CLIENTES\n",
    "    def agregar_clientes(self, nombre, email):\n",
    "        # Verificar si el 'nombre' existe en el diccionario de clientes\n",
    "        if nombre in  self.clientes:\n",
    "                print(f\"el cliente {nombre} ya consta en la base de datos.\")\n",
    "        #Si no existe, agregarlo:\n",
    "        #para que genere un nombre de cliente con numeración consecutiva a medida que se vayan añadiendo.\n",
    "        nombre_cliente = f\"cliente{len(self.clientes)+1}\"\n",
    "        self.clientes[nombre_cliente] = {\"nombre\": nombre, \"email\": email}\n",
    "        print(f\"el cliente {nombre} se ha agregado correctamente\")\n",
    "\n",
    "#MÉTODO PARA VER CLIENTES SIMPLIFICADO\n",
    "    def ver_clientes(self):\n",
    "        if not self.clientes:\n",
    "            print(\"No hay clientes registrados.\")\n",
    "            return\n",
    "        \n",
    "        for nombre_cliente, datos_cliente in self.clientes.items():\n",
    "            nombre = datos_cliente[\"nombre\"]\n",
    "            email = datos_cliente[\"email\"]\n",
    "            print(\"Lista de clientes registrados\")\n",
    "            print(f\"Nombre: {nombre}, Email: {email}\")\n",
    "\n",
    " #MÉTODO PARA REGISTRA UNA COMPRA A UN CLIENTE   \n",
    "    def registrar_compra(self, nombre_cliente, carrito):\n",
    "\n",
    "        "
   ]
  },
  {
   "cell_type": "code",
   "execution_count": 226,
   "metadata": {},
   "outputs": [],
   "source": [
    "mi_tienda_online = TiendaOnLine()"
   ]
  },
  {
   "cell_type": "code",
   "execution_count": 221,
   "metadata": {},
   "outputs": [
    {
     "name": "stdout",
     "output_type": "stream",
     "text": [
      "se ha agregado el nuevo producto correctamente\n"
     ]
    }
   ],
   "source": [
    "mi_tienda_online.agregar_producto(\"rimmel\", 11, 25)"
   ]
  },
  {
   "cell_type": "code",
   "execution_count": 217,
   "metadata": {},
   "outputs": [
    {
     "name": "stdout",
     "output_type": "stream",
     "text": [
      "se ha agregado el nuevo producto correctamente\n"
     ]
    }
   ],
   "source": [
    "mi_tienda_online.agregar_producto(\"pintalabios\", 9, 30)"
   ]
  },
  {
   "cell_type": "code",
   "execution_count": 178,
   "metadata": {},
   "outputs": [
    {
     "name": "stdout",
     "output_type": "stream",
     "text": [
      "Inventario de productos:\n",
      "Nombre: rimmel, Precio: €11, Cantidad: 25\n",
      "Nombre: pintalabios, Precio: €9, Cantidad: 30\n"
     ]
    }
   ],
   "source": [
    "mi_tienda_online.ver_inventario()"
   ]
  },
  {
   "cell_type": "code",
   "execution_count": 161,
   "metadata": {},
   "outputs": [
    {
     "name": "stdout",
     "output_type": "stream",
     "text": [
      "el producto indicado no existe actualmente\n"
     ]
    }
   ],
   "source": [
    "mi_tienda_online.actualizar_stock(\"jabón\", 5)"
   ]
  },
  {
   "cell_type": "code",
   "execution_count": 162,
   "metadata": {},
   "outputs": [
    {
     "name": "stdout",
     "output_type": "stream",
     "text": [
      "el producto indicado no existe actualmente\n"
     ]
    }
   ],
   "source": [
    "mi_tienda_online.eliminar_producto(\"jabón\")"
   ]
  },
  {
   "cell_type": "code",
   "execution_count": 163,
   "metadata": {},
   "outputs": [
    {
     "data": {
      "text/plain": [
       "[{'nombre': 'rimmel', 'precio': 11, 'cantidad': 50},\n",
       " {'nombre': 'pintalabios', 'precio': 9, 'cantidad': 30}]"
      ]
     },
     "execution_count": 163,
     "metadata": {},
     "output_type": "execute_result"
    }
   ],
   "source": [
    "mi_tienda_online.inventario"
   ]
  },
  {
   "cell_type": "code",
   "execution_count": 172,
   "metadata": {},
   "outputs": [
    {
     "data": {
      "text/plain": [
       "270"
      ]
     },
     "execution_count": 172,
     "metadata": {},
     "output_type": "execute_result"
    }
   ],
   "source": [
    "mi_tienda_online.calcular_valor_inventario()"
   ]
  },
  {
   "cell_type": "code",
   "execution_count": 218,
   "metadata": {},
   "outputs": [
    {
     "name": "stdout",
     "output_type": "stream",
     "text": [
      "[{'nombre': 'rimmel', 'precio': 11, 'cantidad': 25}, {'nombre': 'pintalabios', 'precio': 9, 'cantidad': 30}]\n",
      "....................\n",
      "el producto rimmel se ha agregado correctamente. Carrito: ['rimmel']\n",
      "............................\n",
      "el total de la compra es: 11€\n",
      "el producto pintalabios se ha agregado correctamente. Carrito: ['rimmel', 'pintalabios']\n",
      "............................\n",
      "el total de la compra es: 20€\n",
      "lo siento no tenemos disponibilidad de ese producto, introduzca uno de la lista\n",
      "el producto pintalabios se ha agregado correctamente. Carrito: ['rimmel', 'pintalabios', 'pintalabios']\n",
      "............................\n",
      "el total de la compra es: 29€\n"
     ]
    }
   ],
   "source": [
    "mi_tienda_online.realizar_compra()"
   ]
  },
  {
   "cell_type": "code",
   "execution_count": 229,
   "metadata": {},
   "outputs": [
    {
     "name": "stdout",
     "output_type": "stream",
     "text": [
      "el cliente Ana Pérez se ha agregado correctamente\n"
     ]
    },
    {
     "data": {
      "text/plain": [
       "{'cliente1': {'nombre': 'Patricia Sainz', 'email': 'patrisainz@mail.com'},\n",
       " 'cliente2': {'nombre': 'Ana Pérez', 'email': 'anaperez@mail.com'}}"
      ]
     },
     "execution_count": 229,
     "metadata": {},
     "output_type": "execute_result"
    }
   ],
   "source": [
    "mi_tienda_online.agregar_clientes(\"Ana Pérez\", \"anaperez@mail.com\")\n",
    "mi_tienda_online.clientes"
   ]
  },
  {
   "cell_type": "code",
   "execution_count": 230,
   "metadata": {},
   "outputs": [
    {
     "name": "stdout",
     "output_type": "stream",
     "text": [
      "Nombre: Patricia Sainz, Email: patrisainz@mail.com\n",
      "Nombre: Ana Pérez, Email: anaperez@mail.com\n"
     ]
    }
   ],
   "source": [
    "mi_tienda_online.ver_clientes()"
   ]
  },
  {
   "cell_type": "code",
   "execution_count": 153,
   "metadata": {},
   "outputs": [
    {
     "name": "stdout",
     "output_type": "stream",
     "text": [
      "cantidad total a pagar: 15.0\n",
      "........................\n",
      "cantidad introducida para pagar: 30.0\n",
      "........................\n",
      "Pago procesado con éxito. Su cambio es: €15.00\n"
     ]
    }
   ],
   "source": [
    "mi_tienda_online.procesar_pago()"
   ]
  }
 ],
 "metadata": {
  "kernelspec": {
   "display_name": "Python 3",
   "language": "python",
   "name": "python3"
  },
  "language_info": {
   "codemirror_mode": {
    "name": "ipython",
    "version": 3
   },
   "file_extension": ".py",
   "mimetype": "text/x-python",
   "name": "python",
   "nbconvert_exporter": "python",
   "pygments_lexer": "ipython3",
   "version": "3.12.4"
  }
 },
 "nbformat": 4,
 "nbformat_minor": 2
}
